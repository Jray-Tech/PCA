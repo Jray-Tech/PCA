{
 "cells": [
  {
   "cell_type": "markdown",
   "id": "c4f5971d-931d-4120-8e9a-69be435aea1e",
   "metadata": {},
   "source": [
    "# PCA in Numpy\n",
    "\n",
    "The goal of this is for educational purposes only. This project implements PCA in just native Python and Numpy. The only other packages used are for visualization. "
   ]
  },
  {
   "cell_type": "code",
   "execution_count": 1,
   "id": "22b0bb98-c338-4b78-9944-8c3ac65c7b90",
   "metadata": {},
   "outputs": [],
   "source": [
    "import numpy as np \n",
    "import matplotlib.pyplot as plt \n",
    "import seaborn as sns "
   ]
  },
  {
   "cell_type": "code",
   "execution_count": null,
   "id": "786529e5-7f75-44f4-abdb-a81337d93c5d",
   "metadata": {},
   "outputs": [],
   "source": []
  }
 ],
 "metadata": {
  "kernelspec": {
   "display_name": "Python 3 (ipykernel)",
   "language": "python",
   "name": "python3"
  },
  "language_info": {
   "codemirror_mode": {
    "name": "ipython",
    "version": 3
   },
   "file_extension": ".py",
   "mimetype": "text/x-python",
   "name": "python",
   "nbconvert_exporter": "python",
   "pygments_lexer": "ipython3",
   "version": "3.12.7"
  }
 },
 "nbformat": 4,
 "nbformat_minor": 5
}
